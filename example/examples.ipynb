{
 "cells": [
  {
   "cell_type": "code",
   "execution_count": null,
   "metadata": {},
   "outputs": [],
   "source": [
    "%matplotlib inline\n",
    "from matplotlib import pyplot as plt\n",
    "import numpy as np\n",
    "\n",
    "from library_simulator import LibrarySimulator, util"
   ]
  },
  {
   "cell_type": "markdown",
   "metadata": {},
   "source": [
    "#### Create an experiment.  \n",
    "\n",
    "The fasta file should be a DNA sequence for the gene.\n",
    "\n",
    "There are a few mutation spectra defined in the library:\n",
    "+ `published` (the spectrum from the manual)\n",
    "+ `empirical` (an empirical spectrum I measured for the enzyme 3/17/10)\n",
    "+ `flat` (all types of sequence changes equally likely)"
   ]
  },
  {
   "cell_type": "code",
   "execution_count": null,
   "metadata": {},
   "outputs": [],
   "source": [
    "lib = LibrarySimulator(\"example.fasta\",mutation_spectrum=\"published\")"
   ]
  },
  {
   "cell_type": "markdown",
   "metadata": {},
   "source": [
    "#### Generate a library\n",
    "\n",
    "This will make 10 mutants with a mutation rate of 2.  This assumes that the number of mutations per mutant follows a Poisson distribution."
   ]
  },
  {
   "cell_type": "code",
   "execution_count": null,
   "metadata": {},
   "outputs": [],
   "source": [
    "lib.simulate(num_samples=10,mutation_rate=2)"
   ]
  },
  {
   "cell_type": "markdown",
   "metadata": {},
   "source": [
    "#### Access the mutants that were generated.\n",
    "\n",
    "+ `aa`: amino acid changes (`*`: new stop codon)\n",
    "+ `base`: base changes (`-` and `+` are insertions and deletions)\n",
    "+ `num`: total number of amino acid changes (could be a huge number if there is an early stop or indel)\n",
    "+ `indel`: whether or not there is an indel\n",
    "+ `stop`: whether or not there is new stop codon\n",
    "+ `start`: whether or not the real start codon was messed up"
   ]
  },
  {
   "cell_type": "code",
   "execution_count": null,
   "metadata": {},
   "outputs": [],
   "source": [
    "lib.clones"
   ]
  },
  {
   "cell_type": "markdown",
   "metadata": {},
   "source": [
    "#### Simulate libraries with increasing mutation rates and plot\n",
    "Increasing the number of samples will make the curves smoother, but will also make the calculation slower."
   ]
  },
  {
   "cell_type": "code",
   "execution_count": null,
   "metadata": {},
   "outputs": [],
   "source": [
    "f_v_r = util.freq_vs_mutation_rate(lib,num_samples=100)\n",
    "util.plot_freq_vs_mutation_rate(f_v_r)\n",
    "f_v_r"
   ]
  },
  {
   "cell_type": "code",
   "execution_count": null,
   "metadata": {},
   "outputs": [],
   "source": []
  }
 ],
 "metadata": {
  "kernelspec": {
   "display_name": "Python 3",
   "language": "python",
   "name": "python3"
  },
  "language_info": {
   "codemirror_mode": {
    "name": "ipython",
    "version": 3
   },
   "file_extension": ".py",
   "mimetype": "text/x-python",
   "name": "python",
   "nbconvert_exporter": "python",
   "pygments_lexer": "ipython3",
   "version": "3.6.6"
  }
 },
 "nbformat": 4,
 "nbformat_minor": 2
}
